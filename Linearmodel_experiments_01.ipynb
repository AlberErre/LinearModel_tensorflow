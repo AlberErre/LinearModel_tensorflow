{
 "cells": [
  {
   "cell_type": "markdown",
   "metadata": {},
   "source": [
    "# Tensorflow Linear models"
   ]
  },
  {
   "cell_type": "markdown",
   "metadata": {},
   "source": [
    "Tensorflow implementations from scratch using numpy and tensorflow libraries - AlberErre (Author)\n"
   ]
  },
  {
   "cell_type": "markdown",
   "metadata": {},
   "source": [
    "## 1) Simple linear model using random numerical data (linear_nn.py)"
   ]
  },
  {
   "cell_type": "code",
   "execution_count": 48,
   "metadata": {
    "collapsed": false,
    "deletable": true,
    "editable": true
   },
   "outputs": [],
   "source": [
    "import tensorflow as tf\n",
    "import numpy as np\n",
    "import matplotlib.pyplot as plt"
   ]
  },
  {
   "cell_type": "markdown",
   "metadata": {},
   "source": [
    "### Real variables of the model and Dataset (just 2D numerical data created randomly)"
   ]
  },
  {
   "cell_type": "code",
   "execution_count": 49,
   "metadata": {
    "collapsed": false
   },
   "outputs": [
    {
     "data": {
      "image/png": "[encoded data removed]",
      "text/plain": [
       "<matplotlib.figure.Figure at 0x7fb26c0f7160>"
      ]
     },
     "metadata": {},
     "output_type": "display_data"
    }
   ],
   "source": [
    "_realWeights =  0.6\n",
    "_realBiases =   0.4\n",
    "x_data = np.random.rand(100).astype(np.float32) # Random x values\n",
    "y_data = _realWeights*x_data + _realBiases # Y values following a linear structure\n",
    "\n",
    "plt.scatter(x_data,y_data)\n",
    "plt.show()"
   ]
  },
  {
   "cell_type": "markdown",
   "metadata": {},
   "source": [
    "The main goal is use this Neural Network to estimate the real values that fit this model (_realWeights and _realBiases) using the model variables (_modelWeights and _modelBiases)."
   ]
  },
  {
   "cell_type": "code",
   "execution_count": 50,
   "metadata": {
    "collapsed": true
   },
   "outputs": [],
   "source": [
    "_modelWeights = tf.Variable(tf.random_uniform([1], -1.0, 1.0))\n",
    "_modelBiases = tf.Variable(tf.zeros([1]))"
   ]
  },
  {
   "cell_type": "markdown",
   "metadata": {},
   "source": [
    "### Linear model: "
   ]
  },
  {
   "cell_type": "code",
   "execution_count": 51,
   "metadata": {
    "collapsed": true
   },
   "outputs": [],
   "source": [
    "Predicted_y = _modelWeights*x_data + _modelBiases"
   ]
  },
  {
   "cell_type": "markdown",
   "metadata": {},
   "source": [
    "### Training - estimating model's parameters using Gradient Descent (minimization)"
   ]
  },
  {
   "cell_type": "code",
   "execution_count": 52,
   "metadata": {
    "collapsed": true
   },
   "outputs": [],
   "source": [
    "## Calculate de square error between predicted and real \"y\" values\n",
    "Loss_error = tf.reduce_mean(tf.square(Predicted_y - y_data))\n",
    "\n",
    "## Training: update variables using gradient descent and minimize Loss_error\n",
    "optimizer = tf.train.GradientDescentOptimizer(0.5)\n",
    "trainModel = optimizer.minimize(Loss_error)"
   ]
  },
  {
   "cell_type": "markdown",
   "metadata": {},
   "source": [
    "### Initializing variables and Running the model"
   ]
  },
  {
   "cell_type": "code",
   "execution_count": 53,
   "metadata": {
    "collapsed": false
   },
   "outputs": [],
   "source": [
    "## Run the model and init\n",
    "init = tf.initialize_all_variables()#, no longer available after 2017-03-02. \n",
    "#init = tf.global_variables_initializer()\n",
    "sess = tf.Session()\n",
    "\n",
    "sess.run(init)"
   ]
  },
  {
   "cell_type": "markdown",
   "metadata": {},
   "source": [
    "### Increasing accuracy every n_step"
   ]
  },
  {
   "cell_type": "markdown",
   "metadata": {},
   "source": [
    "Once the variables are inizialized, the session upgrade these variables minimizing the error until convergence. Thus, this code will plot the variables results every 15 n_steps (batch = 15).\n",
    "\n",
    "Both values, \"_modelWeights\" and \"_modelBiases\" approximate to real values in each iteration. In other words, they converge to \"_realWeights\" and \"_realBiases\" respectively. "
   ]
  },
  {
   "cell_type": "code",
   "execution_count": 54,
   "metadata": {
    "collapsed": false
   },
   "outputs": [
    {
     "name": "stdout",
     "output_type": "stream",
     "text": [
      "Observation: 0 Model Weights [ 0.09468579] Model Biases: [ 0.99505424] Real Weights: 0.6 Real Biases: 0.4\n",
      "Observation: 15 Model Weights [ 0.34821838] Model Biases: [ 0.54219049] Real Weights: 0.6 Real Biases: 0.4\n",
      "Observation: 30 Model Weights [ 0.50062311] Model Biases: [ 0.45612186] Real Weights: 0.6 Real Biases: 0.4\n",
      "Observation: 45 Model Weights [ 0.56077653] Model Biases: [ 0.422151] Real Weights: 0.6 Real Biases: 0.4\n",
      "Observation: 60 Model Weights [ 0.58451873] Model Biases: [ 0.40874287] Real Weights: 0.6 Real Biases: 0.4\n",
      "Observation: 75 Model Weights [ 0.59388959] Model Biases: [ 0.40345079] Real Weights: 0.6 Real Biases: 0.4\n",
      "Observation: 90 Model Weights [ 0.5975883] Model Biases: [ 0.401362] Real Weights: 0.6 Real Biases: 0.4\n",
      "Observation: 105 Model Weights [ 0.59904814] Model Biases: [ 0.40053758] Real Weights: 0.6 Real Biases: 0.4\n"
     ]
    }
   ],
   "source": [
    "# Increasing Range will increase the accuracy of the model\n",
    "for step in range(116):\n",
    "    sess.run(trainModel)\n",
    "    if step % 15 == 0: # Batch: 15, plot results every 15 observations\n",
    "        print(\"Observation:\", step, \n",
    "              \"Model Weights\", sess.run(_modelWeights),\n",
    "              \"Model Biases:\", sess.run(_modelBiases),\n",
    "              \"Real Weights:\", _realWeights, \n",
    "              \"Real Biases:\", _realBiases)"
   ]
  },
  {
   "cell_type": "markdown",
   "metadata": {},
   "source": [
    "## 1) Results: \n",
    "\n",
    "#### This will provide a clear image of how the _modelWeights and _modelBiases values converge until the _realWeights and _realBiases. Which are, in essence, the true values that represent the data and, therefore, the best optimal solution to this problem."
   ]
  },
  {
   "cell_type": "markdown",
   "metadata": {},
   "source": [
    "## 2) Simple linear model using noisy data"
   ]
  },
  {
   "cell_type": "code",
   "execution_count": 55,
   "metadata": {
    "collapsed": false
   },
   "outputs": [
    {
     "data": {
      "image/png": "[encoded data removed]",
      "text/plain": [
       "<matplotlib.figure.Figure at 0x7fb257913198>"
      ]
     },
     "metadata": {},
     "output_type": "display_data"
    }
   ],
   "source": [
    "y_data_noisy = np.random.randn(100).astype(np.float32) # Y random values\n",
    "\n",
    "plt.scatter(x_data,y_data_noisy)\n",
    "plt.show()\n",
    "\n"
   ]
  },
  {
   "cell_type": "markdown",
   "metadata": {},
   "source": [
    "### Create new functions to use this noisy data"
   ]
  },
  {
   "cell_type": "code",
   "execution_count": 56,
   "metadata": {
    "collapsed": false
   },
   "outputs": [],
   "source": [
    "Loss_error_noisy = tf.reduce_mean(tf.square(Predicted_y - y_data_noisy))\n",
    "optimizer = tf.train.GradientDescentOptimizer(0.5)\n",
    "trainModel_noisy = optimizer.minimize(Loss_error_noisy)\n"
   ]
  },
  {
   "cell_type": "code",
   "execution_count": 57,
   "metadata": {
    "collapsed": true
   },
   "outputs": [],
   "source": [
    "## Run the model and init\n",
    "init = tf.initialize_all_variables()#, no longer available after 2017-03-02. \n",
    "#init = tf.global_variables_initializer()\n",
    "sess = tf.Session()\n",
    "\n",
    "sess.run(init)"
   ]
  },
  {
   "cell_type": "code",
   "execution_count": 58,
   "metadata": {
    "collapsed": false
   },
   "outputs": [
    {
     "name": "stdout",
     "output_type": "stream",
     "text": [
      "Observation: 0 Model Weights [-0.56382251] Model Biases: [ 0.48625118] Real Weights: 0.6 Real Biases: 0.4\n",
      "Observation: 15 Model Weights [ 0.07318637] Model Biases: [-0.03420779] Real Weights: 0.6 Real Biases: 0.4\n",
      "Observation: 30 Model Weights [ 0.35177162] Model Biases: [-0.19153523] Real Weights: 0.6 Real Biases: 0.4\n",
      "Observation: 45 Model Weights [ 0.46172783] Model Biases: [-0.25363162] Real Weights: 0.6 Real Biases: 0.4\n",
      "Observation: 60 Model Weights [ 0.50512695] Model Biases: [-0.27814072] Real Weights: 0.6 Real Biases: 0.4\n",
      "Observation: 75 Model Weights [ 0.52225637] Model Biases: [-0.28781435] Real Weights: 0.6 Real Biases: 0.4\n",
      "Observation: 90 Model Weights [ 0.52901727] Model Biases: [-0.29163247] Real Weights: 0.6 Real Biases: 0.4\n",
      "Observation: 105 Model Weights [ 0.53168577] Model Biases: [-0.29313949] Real Weights: 0.6 Real Biases: 0.4\n"
     ]
    }
   ],
   "source": [
    "# Increasing Range will increase the accuracy of the model\n",
    "for step in range(116):\n",
    "    sess.run(trainModel_noisy)\n",
    "    if step % 15 == 0: # Batch: 15, plot results every 15 observations\n",
    "        print(\"Observation:\", step, \n",
    "              \"Model Weights\", sess.run(_modelWeights),\n",
    "              \"Model Biases:\", sess.run(_modelBiases),\n",
    "              \"Real Weights:\", _realWeights, \n",
    "              \"Real Biases:\", _realBiases)"
   ]
  },
  {
   "cell_type": "code",
   "execution_count": null,
   "metadata": {
    "collapsed": true
   },
   "outputs": [],
   "source": []
  }
 ],
 "metadata": {
  "anaconda-cloud": {},
  "kernelspec": {
   "display_name": "Python 3",
   "language": "python",
   "name": "python3"
  },
  "language_info": {
   "codemirror_mode": {
    "name": "ipython",
    "version": 3
   },
   "file_extension": ".py",
   "mimetype": "text/x-python",
   "name": "python",
   "nbconvert_exporter": "python",
   "pygments_lexer": "ipython3",
   "version": "3.5.2"
  }
 },
 "nbformat": 4,
 "nbformat_minor": 2
}
