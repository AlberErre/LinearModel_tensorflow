{
 "cells": [
  {
   "cell_type": "markdown",
   "metadata": {},
   "source": [
    "# Tensorflow Linear models"
   ]
  },
  {
   "cell_type": "markdown",
   "metadata": {},
   "source": [
    "Tensorflow implementations from scratch using numpy and tensorflow libraries - AlberErre (Author)\n"
   ]
  },
  {
   "cell_type": "markdown",
   "metadata": {},
   "source": [
    "## 1) Simple linear model using random numerical data (linear_nn.py)"
   ]
  },
  {
   "cell_type": "code",
   "execution_count": 2,
   "metadata": {
    "collapsed": false,
    "deletable": true,
    "editable": true
   },
   "outputs": [
    {
     "name": "stderr",
     "output_type": "stream",
     "text": [
      "/opt/conda/lib/python3.5/site-packages/matplotlib/font_manager.py:273: UserWarning: Matplotlib is building the font cache using fc-list. This may take a moment.\n",
      "  warnings.warn('Matplotlib is building the font cache using fc-list. This may take a moment.')\n",
      "/opt/conda/lib/python3.5/site-packages/matplotlib/font_manager.py:273: UserWarning: Matplotlib is building the font cache using fc-list. This may take a moment.\n",
      "  warnings.warn('Matplotlib is building the font cache using fc-list. This may take a moment.')\n"
     ]
    }
   ],
   "source": [
    "import tensorflow as tf\n",
    "import numpy as np\n",
    "import matplotlib.pyplot as plt"
   ]
  },
  {
   "cell_type": "markdown",
   "metadata": {},
   "source": [
    "### Real variables of the model and Dataset (just 2D numerical data created randomly)"
   ]
  },
  {
   "cell_type": "code",
   "execution_count": 3,
   "metadata": {
    "collapsed": false
   },
   "outputs": [
    {
     "data": {
      "image/png": "[encoded data removed]",
      "text/plain": [
       "<matplotlib.figure.Figure at 0x7f2b0296c8d0>"
      ]
     },
     "metadata": {},
     "output_type": "display_data"
    }
   ],
   "source": [
    "_realWeights =  0.6\n",
    "_realBiases =   0.4\n",
    "x_data = np.random.rand(100).astype(np.float32) # Random x values\n",
    "y_data = _realWeights*x_data + _realBiases # Y values following a linear structure\n",
    "\n",
    "plt.scatter(x_data,y_data)\n",
    "plt.show()"
   ]
  },
  {
   "cell_type": "markdown",
   "metadata": {},
   "source": [
    "The main goal is use this Neural Network to estimate the real values that fit this model (_realWeights and _realBiases) using the model variables (_modelWeights and _modelBiases)."
   ]
  },
  {
   "cell_type": "code",
   "execution_count": 4,
   "metadata": {
    "collapsed": true
   },
   "outputs": [],
   "source": [
    "_modelWeights = tf.Variable(tf.random_uniform([1], -1.0, 1.0))\n",
    "_modelBiases = tf.Variable(tf.zeros([1]))"
   ]
  },
  {
   "cell_type": "markdown",
   "metadata": {},
   "source": [
    "### Linear model: "
   ]
  },
  {
   "cell_type": "code",
   "execution_count": 5,
   "metadata": {
    "collapsed": true
   },
   "outputs": [],
   "source": [
    "Predicted_y = _modelWeights*x_data + _modelBiases"
   ]
  },
  {
   "cell_type": "markdown",
   "metadata": {},
   "source": [
    "### Training - estimating model's parameters using Gradient Descent (minimization)"
   ]
  },
  {
   "cell_type": "code",
   "execution_count": 6,
   "metadata": {
    "collapsed": true
   },
   "outputs": [],
   "source": [
    "## Calculate de square error between predicted and real \"y\" values\n",
    "Loss_error = tf.reduce_mean(tf.square(Predicted_y - y_data))\n",
    "\n",
    "## Training: update variables using gradient descent and minimize Loss_error\n",
    "optimizer = tf.train.GradientDescentOptimizer(0.5)\n",
    "trainModel = optimizer.minimize(Loss_error)"
   ]
  },
  {
   "cell_type": "markdown",
   "metadata": {},
   "source": [
    "### Initializing variables and Running the model"
   ]
  },
  {
   "cell_type": "code",
   "execution_count": 7,
   "metadata": {
    "collapsed": false
   },
   "outputs": [],
   "source": [
    "## Run the model and init\n",
    "init = tf.initialize_all_variables()#, no longer availability after 2017-03-02. \n",
    "#init = tf.global_variables_initializer()\n",
    "sess = tf.Session()\n",
    "\n",
    "sess.run(init)"
   ]
  },
  {
   "cell_type": "markdown",
   "metadata": {},
   "source": [
    "### Increasing accuracy every n_step"
   ]
  },
  {
   "cell_type": "markdown",
   "metadata": {},
   "source": [
    "Once the variables are inizialized, the session upgrade these variables minimizing the error until convergence. Thus, this code will plot the variables results every 15 n_steps (batch = 15).\n",
    "\n",
    "Both values, \"_modelWeights\" and \"_modelBiases\" approximate to real values in each iteration. In other words, they converge to \"_realWeights\" and \"_realBiases\" respectively. "
   ]
  },
  {
   "cell_type": "code",
   "execution_count": 8,
   "metadata": {
    "collapsed": false
   },
   "outputs": [
    {
     "name": "stdout",
     "output_type": "stream",
     "text": [
      "Observation: 0 Model Weights [ 0.48578897] Model Biases: [ 0.63881969] Real Weights: 0.6 Real Biases: 0.4\n",
      "Observation: 15 Model Weights [ 0.53452104] Model Biases: [ 0.43525663] Real Weights: 0.6 Real Biases: 0.4\n",
      "Observation: 30 Model Weights [ 0.57722205] Model Biases: [ 0.41226462] Real Weights: 0.6 Real Biases: 0.4\n",
      "Observation: 45 Model Weights [ 0.5920763] Model Biases: [ 0.40426645] Real Weights: 0.6 Real Biases: 0.4\n",
      "Observation: 60 Model Weights [ 0.59724367] Model Biases: [ 0.40148416] Real Weights: 0.6 Real Biases: 0.4\n",
      "Observation: 75 Model Weights [ 0.59904116] Model Biases: [ 0.4005163] Real Weights: 0.6 Real Biases: 0.4\n",
      "Observation: 90 Model Weights [ 0.59966648] Model Biases: [ 0.40017959] Real Weights: 0.6 Real Biases: 0.4\n",
      "Observation: 105 Model Weights [ 0.59988397] Model Biases: [ 0.4000625] Real Weights: 0.6 Real Biases: 0.4\n"
     ]
    }
   ],
   "source": [
    "# Increasing Range will increase the accuracy of the model\n",
    "for step in range(116):\n",
    "    sess.run(trainModel)\n",
    "    if step % 15 == 0: # Batch: 15, plot results every 15 observations\n",
    "        print(\"Observation:\", step, \n",
    "              \"Model Weights\", sess.run(_modelWeights),\n",
    "              \"Model Biases:\", sess.run(_modelBiases),\n",
    "              \"Real Weights:\", _realWeights, \n",
    "              \"Real Biases:\", _realBiases)"
   ]
  },
  {
   "cell_type": "markdown",
   "metadata": {},
   "source": [
    "# 1) Results: \n",
    "\n",
    "This will provide a clear image of how the _modelWeights and _modelBiases values converge until the _realWeights and _realBiases. Which are, in essence, the true values that represent the data and, therefore, the best optimal solution to this problem."
   ]
  },
  {
   "cell_type": "markdown",
   "metadata": {},
   "source": [
    "# 2) Simple linear model using noisy data"
   ]
  },
  {
   "cell_type": "code",
   "execution_count": 83,
   "metadata": {
    "collapsed": false
   },
   "outputs": [
    {
     "data": {
      "image/png": "[encoded data removed]",
      "text/plain": [
       "<matplotlib.figure.Figure at 0x7f2ad954b1d0>"
      ]
     },
     "metadata": {},
     "output_type": "display_data"
    }
   ],
   "source": [
    "noise = np.random.normal(0, 0.06, x_data.shape)\n",
    "\n",
    "y_data_noisy = _realWeights*(x_data + noise) + _realBiases # Y values following a linear structure\n",
    "\n",
    "plt.scatter(x_data,y_data_noisy)\n",
    "plt.show()\n"
   ]
  },
  {
   "cell_type": "markdown",
   "metadata": {},
   "source": [
    "### Create new functions to work with this noisy data"
   ]
  },
  {
   "cell_type": "code",
   "execution_count": 84,
   "metadata": {
    "collapsed": false
   },
   "outputs": [],
   "source": [
    "Loss_error_noisy = tf.reduce_mean(tf.square(Predicted_y - y_data_noisy))\n",
    "optimizer = tf.train.GradientDescentOptimizer(0.5)\n",
    "trainModel_noisy = optimizer.minimize(Loss_error_noisy)\n"
   ]
  },
  {
   "cell_type": "code",
   "execution_count": 85,
   "metadata": {
    "collapsed": true
   },
   "outputs": [],
   "source": [
    "## Run the model and init\n",
    "init = tf.initialize_all_variables()#, no longer availability after 2017-03-02.  \n",
    "#init = tf.global_variables_initializer()\n",
    "sess = tf.Session()\n",
    "\n",
    "sess.run(init)"
   ]
  },
  {
   "cell_type": "code",
   "execution_count": 86,
   "metadata": {
    "collapsed": false
   },
   "outputs": [
    {
     "name": "stdout",
     "output_type": "stream",
     "text": [
      "Observation: 0 Model Weights [ 0.16698903] Model Biases: [ 0.87579864] Real Weights: 0.6 Real Biases: 0.4\n",
      "Observation: 15 Model Weights [ 0.40761235] Model Biases: [ 0.50024056] Real Weights: 0.6 Real Biases: 0.4\n",
      "Observation: 30 Model Weights [ 0.52703768] Model Biases: [ 0.43593696] Real Weights: 0.6 Real Biases: 0.4\n",
      "Observation: 45 Model Weights [ 0.56858182] Model Biases: [ 0.41356784] Real Weights: 0.6 Real Biases: 0.4\n",
      "Observation: 60 Model Weights [ 0.58303362] Model Biases: [ 0.4057864] Real Weights: 0.6 Real Biases: 0.4\n",
      "Observation: 75 Model Weights [ 0.58806086] Model Biases: [ 0.40307951] Real Weights: 0.6 Real Biases: 0.4\n",
      "Observation: 90 Model Weights [ 0.58980972] Model Biases: [ 0.40213785] Real Weights: 0.6 Real Biases: 0.4\n",
      "Observation: 105 Model Weights [ 0.59041804] Model Biases: [ 0.40181029] Real Weights: 0.6 Real Biases: 0.4\n"
     ]
    }
   ],
   "source": [
    "# Increasing Range will increase the accuracy of the model\n",
    "for step in range(116):\n",
    "    sess.run(trainModel_noisy)\n",
    "    if step % 15 == 0: # Batch: 15, plot results every 15 observations\n",
    "        print(\"Observation:\", step, \n",
    "              \"Model Weights\", sess.run(_modelWeights),\n",
    "              \"Model Biases:\", sess.run(_modelBiases),\n",
    "              \"Real Weights:\", _realWeights, \n",
    "              \"Real Biases:\", _realBiases)"
   ]
  },
  {
   "cell_type": "markdown",
   "metadata": {
    "collapsed": true
   },
   "source": [
    "# 2) Results:\n",
    "### Noise Effect <--\n",
    "As we can see above, in every iteration the model variables's accuracy goes higher, but what happens when we increase the noise even more?"
   ]
  },
  {
   "cell_type": "markdown",
   "metadata": {},
   "source": [
    "## 3) Simple linear model using HIGH noisy data"
   ]
  },
  {
   "cell_type": "code",
   "execution_count": 94,
   "metadata": {
    "collapsed": false
   },
   "outputs": [
    {
     "data": {
      "image/png": "[encoded data removed]",
      "text/plain": [
       "<matplotlib.figure.Figure at 0x7f2ad4154588>"
      ]
     },
     "metadata": {},
     "output_type": "display_data"
    }
   ],
   "source": [
    "HIGH_noise = np.random.rand(100).astype(np.float32)\n",
    "\n",
    "y_data_HIGH_noise = _realWeights*(x_data + HIGH_noise) + _realBiases # Y values following a linear structure\n",
    "\n",
    "plt.scatter(x_data,y_data_HIGH_noise)\n",
    "plt.show()"
   ]
  },
  {
   "cell_type": "code",
   "execution_count": 95,
   "metadata": {
    "collapsed": true
   },
   "outputs": [],
   "source": [
    "Loss_error_noisy_HIGH = tf.reduce_mean(tf.square(Predicted_y - y_data_HIGH_noise)) \n",
    "    # We need to update this new noise to the function\n",
    "optimizer = tf.train.GradientDescentOptimizer(0.5)\n",
    "trainModel_noisy = optimizer.minimize(Loss_error_noisy_HIGH)"
   ]
  },
  {
   "cell_type": "code",
   "execution_count": 96,
   "metadata": {
    "collapsed": true
   },
   "outputs": [],
   "source": [
    "## Run the model and init (HIGH noise)\n",
    "init = tf.initialize_all_variables()#, no longer availability after 2017-03-02. \n",
    "#init = tf.global_variables_initializer()\n",
    "sess = tf.Session()\n",
    "\n",
    "sess.run(init)"
   ]
  },
  {
   "cell_type": "code",
   "execution_count": 97,
   "metadata": {
    "collapsed": false
   },
   "outputs": [
    {
     "name": "stdout",
     "output_type": "stream",
     "text": [
      "Observation: 0 Model Weights [ 0.98653835] Model Biases: [ 0.67278469] Real Weights: 0.6 Real Biases: 0.4\n",
      "Observation: 15 Model Weights [ 0.70432818] Model Biases: [ 0.64353651] Real Weights: 0.6 Real Biases: 0.4\n",
      "Observation: 30 Model Weights [ 0.63246858] Model Biases: [ 0.68222874] Real Weights: 0.6 Real Biases: 0.4\n",
      "Observation: 45 Model Weights [ 0.60747093] Model Biases: [ 0.69568855] Real Weights: 0.6 Real Biases: 0.4\n",
      "Observation: 60 Model Weights [ 0.59877509] Model Biases: [ 0.70037073] Real Weights: 0.6 Real Biases: 0.4\n",
      "Observation: 75 Model Weights [ 0.59575015] Model Biases: [ 0.70199949] Real Weights: 0.6 Real Biases: 0.4\n",
      "Observation: 90 Model Weights [ 0.59469795] Model Biases: [ 0.70256603] Real Weights: 0.6 Real Biases: 0.4\n",
      "Observation: 105 Model Weights [ 0.5943318] Model Biases: [ 0.7027632] Real Weights: 0.6 Real Biases: 0.4\n"
     ]
    }
   ],
   "source": [
    "# Increasing Range will increase the accuracy of the model\n",
    "for step in range(116):\n",
    "    sess.run(trainModel_noisy)\n",
    "    if step % 15 == 0: # Batch: 15, plot results every 15 observations\n",
    "        print(\"Observation:\", step, \n",
    "              \"Model Weights\", sess.run(_modelWeights),\n",
    "              \"Model Biases:\", sess.run(_modelBiases),\n",
    "              \"Real Weights:\", _realWeights, \n",
    "              \"Real Biases:\", _realBiases)"
   ]
  },
  {
   "cell_type": "markdown",
   "metadata": {},
   "source": [
    "# 3) Results: \n",
    "The accuracy is not that good but the model still represent a good performance\n",
    "\n",
    "An interesting proposal would be to adapt kernels or further transformations/normalizations to try to vanish the noise and get the patterns that define the slope in the data, as we can imagine a single line in the middle of the points with positive slope!! (an adaptation of Support Vector Machines?)"
   ]
  },
  {
   "cell_type": "code",
   "execution_count": null,
   "metadata": {
    "collapsed": true
   },
   "outputs": [],
   "source": []
  }
 ],
 "metadata": {
  "anaconda-cloud": {},
  "kernelspec": {
   "display_name": "Python 3",
   "language": "python",
   "name": "python3"
  },
  "language_info": {
   "codemirror_mode": {
    "name": "ipython",
    "version": 3
   },
   "file_extension": ".py",
   "mimetype": "text/x-python",
   "name": "python",
   "nbconvert_exporter": "python",
   "pygments_lexer": "ipython3",
   "version": "3.5.2"
  }
 },
 "nbformat": 4,
 "nbformat_minor": 2
}
